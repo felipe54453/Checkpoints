{
 "cells": [
  {
   "cell_type": "markdown",
   "metadata": {},
   "source": [
    "# Aula 7 - Checkpoint 1"
   ]
  },
  {
   "cell_type": "markdown",
   "metadata": {},
   "source": [
    "Obs.:\n",
    "* A equipe deve ser de 3 alunos;\n",
    "* 1 aluno deve ser escolhido como lider e irá dizer se toda a equipe trabalhou no projeto, se alguém deixou de trabalhar e etc.\n",
    "* 1 dos alunos deve apresentar a solução;\n",
    "* Datas:\n",
    "    * 30/03/2022 - Tira dúvidas do projeto, apresentação do nome dos integrantes da equipe, assim como o nome do lider e do apresentador;\n",
    "    * 06/03/2022 - Entrega e apresentação;\n",
    "* Pontuação (o que será avaliado):\n",
    "    * Organização do Jupyter Notebook;\n",
    "    * Metodologia desenvolvida;\n",
    "    * Escrita científica:\n",
    "        * Resumo (breve explicação do problema, da metodologia utilizada e das conclusões);\n",
    "        * Objetivos;\n",
    "        * Introdução (explicação do problema, referencias sobre o assunto, estado da arte...);\n",
    "        * Desenvolvimento (como sua solução foi desenvolvida, porque...);\n",
    "        * Conclusão (resultados e considerações finais);\n",
    "        * Referências (links sites, artigos utilizados..)\n",
    "    * Qualidade do código e robustez contra exceptions;\n",
    "    * Qualidade da apresentação;\n",
    "    * Ortografia;\n",
    "    * Coleção de requisições utilizadas, para demonstrar funcionamento do código;\n",
    "* Todos os entregáveis devem estar em um repositório do github e compartilhado com o professor no email pf1472@fiap.com.br."
   ]
  },
  {
   "cell_type": "markdown",
   "metadata": {},
   "source": [
    "## Projeto"
   ]
  },
  {
   "cell_type": "markdown",
   "metadata": {},
   "source": [
    "Um funcionário do ministério da saúde, contratou sua empresa para realizar o desenvolvimento de uma API que se comunicará com o web site do governo e que será responsável por alimentar a plataforma com informações sobre a COVID-19. <br>\n",
    "O funcionário solicitou informações tais como (todos os dados devem ser de 2 anos atrás em relação a data em que foi realizada a requisição, por exemplo, se a requisição foi realizada dia 30/03/2022, devem ser analisados dados de 30/03/2020):\n",
    "* Média móvel dos 7 dias anteriores (nível Brasil);\n",
    "* Média móvel dos 7 dias anteriores do estado escolhido;\n",
    "* Gráfico de barras com o número de casos do dia por estados;\n",
    "* Gráfico de linha com uma série temporal de casos, por estado, em que será recebido data de inicio data de fim; <br>\n",
    "\n",
    "Além disso, o funcionário pediu que enviasse a ele, uma vez por dia, um email dizendo quanto cada requisição foi utilizada ao longo daquele dia. \n"
   ]
  },
  {
   "cell_type": "markdown",
   "metadata": {},
   "source": [
    "## Perguntas"
   ]
  },
  {
   "cell_type": "markdown",
   "metadata": {},
   "source": [
    "1 - Antes, para conseguir essas informações, o usuário deveria ligar para o telefone do ministério da saúde solicitando estas informações. Entre um atendente e outro, para conseguir essas 4 informações (uma pessoa de São Paulo), o usuário levava cerca de 2min. Em quanto tempo esse usuário conseguiria essas informações utilizando a plataforma de vocês (soma do valor da latência média dos endpoints)?\n",
    "<br>\n",
    "<br>\n",
    "2 - Por que você escolheu essa fonte de dados e não outra? Que critérios vocês utilizaram para esta escolha?\n",
    "<br>\n",
    "<br>\n",
    "3 - Um usuário cego deseja obter as informações. Seria possível a construção de alguma opção de acessibilidade para esse tipo de usuário?\n",
    "<br>\n",
    "<br>\n",
    "4 - Um usuário que deseja assinar a \"newsletter\" do site, conseguiria receber estas informações diariamente em seu email?\n",
    "<br>\n",
    "<br>\n",
    "5 - Considerando que era investido cerca de 0,10 centavos (dinheiro público) para cada ligação, que eram recebidas cerca de 100.000 ligações por dia e que a pandemia começou 01/03/2020 e terminou a exatamente 2 anos depois (situação hipotética), quanto você cobraria pra implantar sua solução, considerando que vocês como empresa querem maximizar os lucros e ao mesmo tempo, tornar a proposta atrativa para o governo? Por que esse valor foi escolhido? "
   ]
  }
 ],
 "metadata": {
  "language_info": {
   "name": "python"
  },
  "orig_nbformat": 4
 },
 "nbformat": 4,
 "nbformat_minor": 2
}
