{
 "cells": [
  {
   "cell_type": "markdown",
   "metadata": {},
   "source": [
    "# Aula 8 - Checkpoint 1"
   ]
  },
  {
   "cell_type": "markdown",
   "metadata": {},
   "source": [
    "Obs.:\n",
    "* A equipe deve ser de 3 alunos (ou equipe já definida previamente);\n",
    "* 1 aluno deve ser escolhido como lider e irá dizer se toda a equipe trabalhou no projeto, se alguém deixou de trabalhar e etc.\n",
    "* 1 dos alunos deve apresentar a solução;\n",
    "* Datas:\n",
    "    * 04/04/2022 - Tira dúvidas do projeto, apresentação do nome dos integrantes da equipe, assim como o nome do lider e do apresentador;\n",
    "    * 11/04/2022 - Entrega e apresentação;\n",
    "* Pontuação (o que será avaliado):\n",
    "    * Organização do Jupyter Notebook;\n",
    "    * Metodologia desenvolvida;\n",
    "    * Escrita científica:\n",
    "        * Resumo (breve explicação do problema, da metodologia utilizada e das conclusões);\n",
    "        * Objetivos;\n",
    "        * Introdução (explicação do problema, referencias sobre o assunto, estado da arte...);\n",
    "        * Desenvolvimento (como sua solução foi desenvolvida, porque...);\n",
    "        * Conclusão (resultados e considerações finais);\n",
    "        * Referências (links sites, artigos utilizados..)\n",
    "    * Qualidade do código e robustez contra exceptions;\n",
    "    * Qualidade da apresentação;\n",
    "    * Ortografia;\n",
    "    * Análise Exploratóra;\n",
    "    * Resultados;\n",
    "* Todos os entregáveis devem estar em um repositório do github e compartilhado com o professor no email pf1472@fiap.com.br."
   ]
  },
  {
   "cell_type": "markdown",
   "metadata": {},
   "source": [
    "## Projeto"
   ]
  },
  {
   "cell_type": "markdown",
   "metadata": {},
   "source": [
    "### Descrição\n",
    "O conjunto de dados deste projeto prova que muito mais influencia as negociações de preços do que o número de quartos ou uma cerca branca.\n",
    "<br>\n",
    "<br>\n",
    "Com 79 variáveis explicativas que descrevem (quase) todos os aspectos das casas residenciais em Ames, Iowa, este projeto desafia você a prever o preço final de cada casa.\n",
    "\n",
    "### Avaliação\n",
    "#### Objetivos\n",
    "É seu trabalho prever a classe de venda de cada casa. Para cada ID no conjunto de teste, você deve prever a classe da variável SalePrice.\n",
    "#### Métrica\n",
    "F1 Score\n",
    "#### Arquivo de saída\n",
    "O arquivo deve conter um cabeçalho e ter o seguinte formato:\n",
    "```\n",
    "Id,SalePrice\n",
    "1461,Low Price\n",
    "1462,High Price\n",
    "1463,Mid Price\n",
    "etc.\n",
    "```\n",
    "#### Descrição dos arquivos\n",
    "- train.csv - o conjunto de treinamento\n",
    "- test.csv - o conjunto de teste\n",
    "- data_description.txt - descrição completa de cada coluna\n"
   ]
  }
 ],
 "metadata": {
  "interpreter": {
   "hash": "8051c81b3f1a38dbda6c8039d36408f7989deaff8f5c1d8c2e76272e26405d8a"
  },
  "kernelspec": {
   "display_name": "Python 3.7.11 ('2tiar')",
   "language": "python",
   "name": "python3"
  },
  "language_info": {
   "codemirror_mode": {
    "name": "ipython",
    "version": 3
   },
   "file_extension": ".py",
   "mimetype": "text/x-python",
   "name": "python",
   "nbconvert_exporter": "python",
   "pygments_lexer": "ipython3",
   "version": "3.7.11"
  },
  "orig_nbformat": 4
 },
 "nbformat": 4,
 "nbformat_minor": 2
}
